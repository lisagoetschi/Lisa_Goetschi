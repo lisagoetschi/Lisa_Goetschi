{
 "cells": [
  {
   "cell_type": "code",
   "execution_count": null,
   "id": "7268c416",
   "metadata": {},
   "outputs": [],
   "source": [
    "import nltk\n",
    "import germansentiment \n",
    "from nltk.probability import FreqDist\n",
    "from textblob_de import TextBlobDE\n",
    "import csv\n",
    "import string \n",
    "import matplotlib.pyplot as plt\n",
    "from wordcloud import WordCloud\n",
    "from nltk.tokenize import sent_tokenize\n",
    "nltk.download('punkt')\n",
    "from textblob_de import TextBlobDE as TextBlob"
   ]
  },
  {
   "cell_type": "code",
   "execution_count": null,
   "id": "4c438199",
   "metadata": {},
   "outputs": [],
   "source": [
    "with open('/Users/lisa/Final_Project_geopolitcs/first_week.csv', 'r') as csv_datei:\n",
    "    reader = csv.reader(csv_datei, delimiter=',')\n",
    "    text = csv_datei.read()\n",
    "    token_text = sent_tokenize(text)\n",
    "    words = text.split()"
   ]
  },
  {
   "cell_type": "code",
   "execution_count": null,
   "id": "474596da",
   "metadata": {},
   "outputs": [],
   "source": [
    "lowercase_words = []\n",
    "for w in words: lowercase_words.append(w.lower()) \n",
    "print(len(lowercase_words)) "
   ]
  },
  {
   "cell_type": "code",
   "execution_count": null,
   "id": "8bbedf97",
   "metadata": {},
   "outputs": [],
   "source": [
    "def remove_punc(string):\n",
    "    punc = '''!()-[]{};:'\"\\, <>./?@#$%^&*_~'''\n",
    "    for ele in string:  \n",
    "        if ele in punc:  \n",
    "            string = string.replace(ele, \"\") \n",
    "    return string\n",
    " \n",
    "lowercase_words_clean = [remove_punc(i) for i in lowercase_words]"
   ]
  },
  {
   "cell_type": "code",
   "execution_count": null,
   "id": "88b3aa8d",
   "metadata": {},
   "outputs": [],
   "source": [
    "tweet_words = []\n",
    "\n",
    "for word in lowercase_words_clean:\n",
    "    if word.startswith('http'):\n",
    "        word = \"http\"\n",
    "    elif word.startswith('@'):\n",
    "        word = '@user'\n",
    "    elif word: \n",
    "        word = word\n",
    "        tweet_words.append(word)"
   ]
  },
  {
   "cell_type": "code",
   "execution_count": null,
   "id": "5925f0b9",
   "metadata": {},
   "outputs": [],
   "source": [
    "nltk.download('stopwords')\n",
    "from nltk.corpus import stopwords\n",
    "stopwords = stopwords.words('german')"
   ]
  },
  {
   "cell_type": "code",
   "execution_count": null,
   "id": "37edea90",
   "metadata": {},
   "outputs": [],
   "source": [
    "other_stopwords = [\"ukraine\", \"ukraine-krieg\", \"mehr\", \"-\", \"via\", \"+++\", \"ukrainekrieg\", \"krieg\", \"tonline\", \"@user\", \"http\"]\n",
    "print(other_stopwords)"
   ]
  },
  {
   "cell_type": "code",
   "execution_count": null,
   "id": "f6004181",
   "metadata": {},
   "outputs": [],
   "source": [
    "words_withoutstop = []\n",
    "for word in tweet_words :\n",
    "    if word not in stopwords:\n",
    "        words_withoutstop.append(word)\n",
    "\n",
    "fdist = FreqDist(words_withoutstop)\n",
    "fdist.plot(10)\n",
    "\n",
    "print(len(words), len(words_withoutstop))"
   ]
  },
  {
   "cell_type": "code",
   "execution_count": null,
   "id": "6aae9174",
   "metadata": {},
   "outputs": [],
   "source": [
    "words_withoutstop2 = []\n",
    "for word in words_withoutstop:\n",
    "    if word not in other_stopwords:\n",
    "        words_withoutstop2.append(word)\n",
    "fdist2 = FreqDist(words_withoutstop2)\n",
    "fdist2.plot(10)\n",
    "\n",
    "\n",
    "print(len(words_withoutstop), len(words_withoutstop2))"
   ]
  },
  {
   "cell_type": "code",
   "execution_count": null,
   "id": "ecbc513e",
   "metadata": {},
   "outputs": [],
   "source": [
    "string_firstweek = ''\n",
    "for x in words_withoutstop2:\n",
    "    string_firstweek += ' ' + x"
   ]
  },
  {
   "cell_type": "code",
   "execution_count": null,
   "id": "f8339987",
   "metadata": {},
   "outputs": [],
   "source": [
    "wc = WordCloud(scale=3,\n",
    "                colormap='Paired',\n",
    "                background_color='white')\n",
    "wc.generate(string_firstweek)\n",
    "\n",
    "plt.imshow(wc)\n",
    "wc.to_file('wordcloud_firstweek.png')\n",
    "plt.axis(\"off\")"
   ]
  },
  {
   "cell_type": "code",
   "execution_count": null,
   "id": "bb5a1856",
   "metadata": {},
   "outputs": [],
   "source": [
    "blob = TextBlob(string_firstweek)\n",
    "\n",
    "print(blob.sentiment)\n",
    "\n",
    "sentiment_mw = blob.sentiment"
   ]
  }
 ],
 "metadata": {
  "kernelspec": {
   "display_name": "Python 3 (ipykernel)",
   "language": "python",
   "name": "python3"
  },
  "language_info": {
   "codemirror_mode": {
    "name": "ipython",
    "version": 3
   },
   "file_extension": ".py",
   "mimetype": "text/x-python",
   "name": "python",
   "nbconvert_exporter": "python",
   "pygments_lexer": "ipython3",
   "version": "3.9.7"
  }
 },
 "nbformat": 4,
 "nbformat_minor": 5
}
